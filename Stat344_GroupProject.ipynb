{
 "cells": [
  {
   "cell_type": "code",
   "execution_count": 2,
   "id": "0326dc25-e805-4283-a924-1f3d9d529a71",
   "metadata": {},
   "outputs": [
    {
     "name": "stderr",
     "output_type": "stream",
     "text": [
      "Warning message:\n",
      "\"package 'ggplot2' was built under R version 4.3.1\"\n",
      "Warning message:\n",
      "\"package 'purrr' was built under R version 4.3.1\"\n",
      "Warning message:\n",
      "\"package 'dplyr' was built under R version 4.3.1\"\n",
      "── \u001b[1mAttaching core tidyverse packages\u001b[22m ──────────────────────────────────────────────────────────────── tidyverse 2.0.0 ──\n",
      "\u001b[32m✔\u001b[39m \u001b[34mdplyr    \u001b[39m 1.1.3     \u001b[32m✔\u001b[39m \u001b[34mreadr    \u001b[39m 2.1.4\n",
      "\u001b[32m✔\u001b[39m \u001b[34mforcats  \u001b[39m 1.0.0     \u001b[32m✔\u001b[39m \u001b[34mstringr  \u001b[39m 1.5.0\n",
      "\u001b[32m✔\u001b[39m \u001b[34mggplot2  \u001b[39m 3.4.3     \u001b[32m✔\u001b[39m \u001b[34mtibble   \u001b[39m 3.2.1\n",
      "\u001b[32m✔\u001b[39m \u001b[34mlubridate\u001b[39m 1.9.2     \u001b[32m✔\u001b[39m \u001b[34mtidyr    \u001b[39m 1.3.0\n",
      "\u001b[32m✔\u001b[39m \u001b[34mpurrr    \u001b[39m 1.0.2     \n",
      "── \u001b[1mConflicts\u001b[22m ────────────────────────────────────────────────────────────────────────────────── tidyverse_conflicts() ──\n",
      "\u001b[31m✖\u001b[39m \u001b[34mdplyr\u001b[39m::\u001b[32mfilter()\u001b[39m masks \u001b[34mstats\u001b[39m::filter()\n",
      "\u001b[31m✖\u001b[39m \u001b[34mdplyr\u001b[39m::\u001b[32mlag()\u001b[39m    masks \u001b[34mstats\u001b[39m::lag()\n",
      "\u001b[36mℹ\u001b[39m Use the conflicted package (\u001b[3m\u001b[34m<http://conflicted.r-lib.org/>\u001b[39m\u001b[23m) to force all conflicts to become errors\n"
     ]
    }
   ],
   "source": [
    "library(tidyverse)"
   ]
  },
  {
   "cell_type": "markdown",
   "id": "2d65716b-8db4-4aca-8ed9-a9c60fc759e3",
   "metadata": {
    "tags": []
   },
   "source": [
    "# Coding Part"
   ]
  },
  {
   "cell_type": "markdown",
   "id": "cad1a43b-3fdc-4b42-9d05-456c0d134fe6",
   "metadata": {},
   "source": [
    "## Read Data and make it tidy"
   ]
  },
  {
   "cell_type": "code",
   "execution_count": 3,
   "id": "60a77378-a1d9-40dd-8263-e217563914f0",
   "metadata": {},
   "outputs": [],
   "source": [
    "#From github Read\n",
    "#ds <- read.csv(\"https://raw.githubusercontent.com/ZackYe42/STAT344-GroupProject/main/cities_air_quality_water_pollution.18-10-2021.csv\",header = T)\n",
    "\n",
    "#From Local\n",
    "ds <- read.csv(\"cities_air_quality_water_pollution.csv\",header = T,sep = \",\")\n",
    "\n",
    "#There is a space befor each string data, we want remove that\n",
    "ds <- ds %>%\n",
    "  mutate_at(vars(City, Region, Country), trimws)\n",
    "\n",
    "#Some Region is NA, we want use city name to replace that\n",
    "ds <- ds %>%\n",
    "  mutate(Region = ifelse(Region == \"\", City, Region))"
   ]
  },
  {
   "cell_type": "code",
   "execution_count": 4,
   "id": "98750194-70b4-4c0c-9026-10ef9db575e6",
   "metadata": {},
   "outputs": [
    {
     "data": {
      "text/html": [
       "<table class=\"dataframe\">\n",
       "<caption>A data.frame: 3 × 5</caption>\n",
       "<thead>\n",
       "\t<tr><th></th><th scope=col>City</th><th scope=col>Region</th><th scope=col>Country</th><th scope=col>AirQuality</th><th scope=col>WaterPollution</th></tr>\n",
       "\t<tr><th></th><th scope=col>&lt;chr&gt;</th><th scope=col>&lt;chr&gt;</th><th scope=col>&lt;chr&gt;</th><th scope=col>&lt;dbl&gt;</th><th scope=col>&lt;dbl&gt;</th></tr>\n",
       "</thead>\n",
       "<tbody>\n",
       "\t<tr><th scope=row>1</th><td>New York City   </td><td>New York            </td><td>United States of America</td><td>46.81604</td><td>49.50495</td></tr>\n",
       "\t<tr><th scope=row>2</th><td>Washington, D.C.</td><td>District of Columbia</td><td>United States of America</td><td>66.12903</td><td>49.10714</td></tr>\n",
       "\t<tr><th scope=row>3</th><td>San Francisco   </td><td>California          </td><td>United States of America</td><td>60.51402</td><td>43.00000</td></tr>\n",
       "</tbody>\n",
       "</table>\n"
      ],
      "text/latex": [
       "A data.frame: 3 × 5\n",
       "\\begin{tabular}{r|lllll}\n",
       "  & City & Region & Country & AirQuality & WaterPollution\\\\\n",
       "  & <chr> & <chr> & <chr> & <dbl> & <dbl>\\\\\n",
       "\\hline\n",
       "\t1 & New York City    & New York             & United States of America & 46.81604 & 49.50495\\\\\n",
       "\t2 & Washington, D.C. & District of Columbia & United States of America & 66.12903 & 49.10714\\\\\n",
       "\t3 & San Francisco    & California           & United States of America & 60.51402 & 43.00000\\\\\n",
       "\\end{tabular}\n"
      ],
      "text/markdown": [
       "\n",
       "A data.frame: 3 × 5\n",
       "\n",
       "| <!--/--> | City &lt;chr&gt; | Region &lt;chr&gt; | Country &lt;chr&gt; | AirQuality &lt;dbl&gt; | WaterPollution &lt;dbl&gt; |\n",
       "|---|---|---|---|---|---|\n",
       "| 1 | New York City    | New York             | United States of America | 46.81604 | 49.50495 |\n",
       "| 2 | Washington, D.C. | District of Columbia | United States of America | 66.12903 | 49.10714 |\n",
       "| 3 | San Francisco    | California           | United States of America | 60.51402 | 43.00000 |\n",
       "\n"
      ],
      "text/plain": [
       "  City             Region               Country                  AirQuality\n",
       "1 New York City    New York             United States of America 46.81604  \n",
       "2 Washington, D.C. District of Columbia United States of America 66.12903  \n",
       "3 San Francisco    California           United States of America 60.51402  \n",
       "  WaterPollution\n",
       "1 49.50495      \n",
       "2 49.10714      \n",
       "3 43.00000      "
      ]
     },
     "metadata": {},
     "output_type": "display_data"
    }
   ],
   "source": [
    "head(ds,3)"
   ]
  },
  {
   "cell_type": "markdown",
   "id": "654d14f8-bffb-4c39-899b-abc0d82b363c",
   "metadata": {},
   "source": [
    "## Preselect Data "
   ]
  },
  {
   "cell_type": "markdown",
   "id": "30d9baff-200e-43e5-a6ab-6238445d679d",
   "metadata": {},
   "source": [
    "In this project, we will only use data from China"
   ]
  },
  {
   "cell_type": "code",
   "execution_count": 5,
   "id": "a5228990-c5ed-4275-8834-d76035ddf544",
   "metadata": {},
   "outputs": [
    {
     "data": {
      "text/html": [
       "<table class=\"dataframe\">\n",
       "<caption>A data.frame: 6 × 5</caption>\n",
       "<thead>\n",
       "\t<tr><th></th><th scope=col>City</th><th scope=col>Region</th><th scope=col>Country</th><th scope=col>AirQuality</th><th scope=col>WaterPollution</th></tr>\n",
       "\t<tr><th></th><th scope=col>&lt;chr&gt;</th><th scope=col>&lt;chr&gt;</th><th scope=col>&lt;chr&gt;</th><th scope=col>&lt;dbl&gt;</th><th scope=col>&lt;dbl&gt;</th></tr>\n",
       "</thead>\n",
       "<tbody>\n",
       "\t<tr><th scope=row>1</th><td>Beijing </td><td>Beijing </td><td>People's Republic of China</td><td>21.366279</td><td>70.78313</td></tr>\n",
       "\t<tr><th scope=row>2</th><td>Hangzhou</td><td>Zhejiang</td><td>People's Republic of China</td><td>25.694444</td><td>62.93103</td></tr>\n",
       "\t<tr><th scope=row>3</th><td>Xi'an   </td><td>Shaanxi </td><td>People's Republic of China</td><td> 5.952381</td><td>72.05882</td></tr>\n",
       "\t<tr><th scope=row>4</th><td>Lhasa   </td><td>Tibet   </td><td>People's Republic of China</td><td>12.500000</td><td>50.00000</td></tr>\n",
       "\t<tr><th scope=row>5</th><td>Shanghai</td><td>Shanghai</td><td>People's Republic of China</td><td>25.000000</td><td>67.58475</td></tr>\n",
       "\t<tr><th scope=row>6</th><td>Shenyang</td><td>Liaoning</td><td>People's Republic of China</td><td> 6.250000</td><td>76.56250</td></tr>\n",
       "</tbody>\n",
       "</table>\n"
      ],
      "text/latex": [
       "A data.frame: 6 × 5\n",
       "\\begin{tabular}{r|lllll}\n",
       "  & City & Region & Country & AirQuality & WaterPollution\\\\\n",
       "  & <chr> & <chr> & <chr> & <dbl> & <dbl>\\\\\n",
       "\\hline\n",
       "\t1 & Beijing  & Beijing  & People's Republic of China & 21.366279 & 70.78313\\\\\n",
       "\t2 & Hangzhou & Zhejiang & People's Republic of China & 25.694444 & 62.93103\\\\\n",
       "\t3 & Xi'an    & Shaanxi  & People's Republic of China &  5.952381 & 72.05882\\\\\n",
       "\t4 & Lhasa    & Tibet    & People's Republic of China & 12.500000 & 50.00000\\\\\n",
       "\t5 & Shanghai & Shanghai & People's Republic of China & 25.000000 & 67.58475\\\\\n",
       "\t6 & Shenyang & Liaoning & People's Republic of China &  6.250000 & 76.56250\\\\\n",
       "\\end{tabular}\n"
      ],
      "text/markdown": [
       "\n",
       "A data.frame: 6 × 5\n",
       "\n",
       "| <!--/--> | City &lt;chr&gt; | Region &lt;chr&gt; | Country &lt;chr&gt; | AirQuality &lt;dbl&gt; | WaterPollution &lt;dbl&gt; |\n",
       "|---|---|---|---|---|---|\n",
       "| 1 | Beijing  | Beijing  | People's Republic of China | 21.366279 | 70.78313 |\n",
       "| 2 | Hangzhou | Zhejiang | People's Republic of China | 25.694444 | 62.93103 |\n",
       "| 3 | Xi'an    | Shaanxi  | People's Republic of China |  5.952381 | 72.05882 |\n",
       "| 4 | Lhasa    | Tibet    | People's Republic of China | 12.500000 | 50.00000 |\n",
       "| 5 | Shanghai | Shanghai | People's Republic of China | 25.000000 | 67.58475 |\n",
       "| 6 | Shenyang | Liaoning | People's Republic of China |  6.250000 | 76.56250 |\n",
       "\n"
      ],
      "text/plain": [
       "  City     Region   Country                    AirQuality WaterPollution\n",
       "1 Beijing  Beijing  People's Republic of China 21.366279  70.78313      \n",
       "2 Hangzhou Zhejiang People's Republic of China 25.694444  62.93103      \n",
       "3 Xi'an    Shaanxi  People's Republic of China  5.952381  72.05882      \n",
       "4 Lhasa    Tibet    People's Republic of China 12.500000  50.00000      \n",
       "5 Shanghai Shanghai People's Republic of China 25.000000  67.58475      \n",
       "6 Shenyang Liaoning People's Republic of China  6.250000  76.56250      "
      ]
     },
     "metadata": {},
     "output_type": "display_data"
    },
    {
     "data": {
      "text/html": [
       "238"
      ],
      "text/latex": [
       "238"
      ],
      "text/markdown": [
       "238"
      ],
      "text/plain": [
       "[1] 238"
      ]
     },
     "metadata": {},
     "output_type": "display_data"
    }
   ],
   "source": [
    "#filter People's Republic of China's data\n",
    "ds1 <- ds %>% \n",
    "     filter(Country == \"People\\'s Republic of China\")\n",
    "head(ds1)\n",
    "N <- nrow(ds1)\n",
    "N"
   ]
  },
  {
   "cell_type": "markdown",
   "id": "a8921776",
   "metadata": {},
   "source": [
    "# Visulization"
   ]
  },
  {
   "cell_type": "code",
   "execution_count": 6,
   "id": "bb6e12ac",
   "metadata": {},
   "outputs": [
    {
     "data": {
      "image/png": "[encoded data removed]",
      "text/plain": [
       "plot without title"
      ]
     },
     "metadata": {
      "image/png": {
       "height": 420,
       "width": 420
      }
     },
     "output_type": "display_data"
    },
    {
     "data": {
      "image/png": "[encoded data removed]",
      "text/plain": [
       "plot without title"
      ]
     },
     "metadata": {
      "image/png": {
       "height": 420,
       "width": 420
      }
     },
     "output_type": "display_data"
    }
   ],
   "source": [
    "air_box <- ds1 %>% \n",
    "    ggplot() +\n",
    "    geom_boxplot(aes(y = AirQuality))\n",
    "air_box\n",
    "\n",
    "h2o_box <- ds1 %>% \n",
    "    ggplot() +\n",
    "    geom_boxplot(aes(y = WaterPollution))\n",
    "h2o_box"
   ]
  },
  {
   "cell_type": "markdown",
   "id": "d2c4cb24",
   "metadata": {},
   "source": [
    "# True Mean"
   ]
  },
  {
   "cell_type": "code",
   "execution_count": 7,
   "id": "d3bda39c",
   "metadata": {},
   "outputs": [
    {
     "name": "stdout",
     "output_type": "stream",
     "text": [
      "The mean for chinese air quality is  10.76107 \n",
      "The mean for chinese water pollution is  54.61749"
     ]
    }
   ],
   "source": [
    "air_mu <- mean(ds1$AirQuality)\n",
    "h2o_mu <- mean(ds1$WaterPollution)\n",
    "cat(\"The mean for chinese air quality is \", air_mu,\n",
    "   \"\\nThe mean for chinese water pollution is \", h2o_mu)"
   ]
  },
  {
   "cell_type": "markdown",
   "id": "d46e6025-fa48-4e75-97bb-7245ca244307",
   "metadata": {},
   "source": [
    "## SRS Method"
   ]
  },
  {
   "cell_type": "code",
   "execution_count": 8,
   "id": "9953606d-5ccb-4595-acfb-a7f9cb4f7044",
   "metadata": {},
   "outputs": [],
   "source": [
    "# SRS Sample \n",
    "\n",
    "set.seed(42)\n",
    "n <- 50\n",
    "srs <- sample_n(ds1,n)"
   ]
  },
  {
   "cell_type": "code",
   "execution_count": 9,
   "id": "942e0e7b",
   "metadata": {},
   "outputs": [],
   "source": [
    "# FPC\n",
    "fpc <- (1 - n / N)"
   ]
  },
  {
   "cell_type": "code",
   "execution_count": 10,
   "id": "af3d46db-c44c-418f-9615-57e54a3edbe5",
   "metadata": {},
   "outputs": [
    {
     "name": "stdout",
     "output_type": "stream",
     "text": [
      "The mean for SRS air quality is  11.05067 , the se for is  2.253126 \n",
      "The mean for SRS water pollution is  52.91816 , the se for is  1.925419"
     ]
    }
   ],
   "source": [
    "#Calculate Mean and SE\n",
    "\n",
    "air_srs_mu <- mean(srs$AirQuality)\n",
    "air_srs_se <- sd(srs$AirQuality) / sqrt(n / fpc)\n",
    "\n",
    "h2o_srs_mu <- mean(srs$WaterPollution)\n",
    "h2o_srs_se <- sd(srs$WaterPollution) / sqrt(n / fpc)\n",
    "\n",
    "cat(\"The mean for SRS air quality is \", air_srs_mu, \", the se for is \", air_srs_se,\n",
    "   \"\\nThe mean for SRS water pollution is \", h2o_srs_mu,\", the se for is \", h2o_srs_se)"
   ]
  },
  {
   "cell_type": "markdown",
   "id": "c47d1c0a",
   "metadata": {},
   "source": [
    "# Stratified "
   ]
  },
  {
   "cell_type": "code",
   "execution_count": 11,
   "id": "e8913d5d",
   "metadata": {},
   "outputs": [],
   "source": [
    "# Northern and Southern regions based on a simplified traditional division\n",
    "north_region <- c(\"Beijing\", \"Liaoning\", \"Tianjin\", \"Heilongjiang\", \"Shanxi\", \"Jilin\", \"Hebei\", \"Shandong\", \"Inner Mongolia\", \"Siping\", \"Shaanxi\")\n",
    "south_region <- c(\"Zhejiang\", \"Tibet\", \"Shanghai\", \"Chongqing\", \"Hubei\", \"Guangdong\", \"Jiangsu\", \"Xinjiang\", \"Guizhou\", \"Sichuan\", \"Henan\", \"Jiangxi\", \"Guangxi\", \"Fujian\", \"Qinghai\", \"Anhui\", \"Hunan\", \"Yunnan\", \"Gansu\", \"Hainan\", \"Ningxia\")\n",
    "\n",
    "north <- ds1 %>% \n",
    "    filter(Region %in% north_region)\n",
    "south <- ds1 %>% \n",
    "    filter(Region %in% south_region)\n",
    "\n",
    "N_nor <- nrow(north)\n",
    "N_sou <- nrow(south)\n",
    "\n",
    "w_nor <- N_nor / N\n",
    "w_sou <- N_sou / N\n",
    "\n",
    "n_nor <- round(w_nor * n,0)\n",
    "n_sou <- round(w_sou * n,0)\n",
    "\n",
    "fpc_nor <- 1 - n_nor / N\n",
    "fpc_sou <- 1 - n_sou / N"
   ]
  },
  {
   "cell_type": "code",
   "execution_count": 12,
   "id": "ba52100e",
   "metadata": {},
   "outputs": [],
   "source": [
    "# Stratified Sample\n",
    "set.seed(42)\n",
    "str_nor <- sample_n(north,n_nor)\n",
    "str_sou <- sample_n(south,n_sou)"
   ]
  },
  {
   "cell_type": "code",
   "execution_count": 13,
   "id": "78ee3d03",
   "metadata": {},
   "outputs": [
    {
     "name": "stdout",
     "output_type": "stream",
     "text": [
      "The mean for Stratified air quality is  11.75607 , the se for is  1.941197 \n",
      "The mean for Stratified water pollution is  53.49975 , the se for is  1.941197"
     ]
    }
   ],
   "source": [
    "#Calculate Mean and SE\n",
    "\n",
    "# Mean\n",
    "air_str_n_mu <- mean(str_nor$AirQuality)  \n",
    "air_str_s_mu <- mean(str_sou$AirQuality)  \n",
    "\n",
    "air_str_mu <- w_nor * air_str_n_mu + w_sou * air_str_s_mu\n",
    "\n",
    "h2o_str_n_mu <- mean(str_nor$WaterPollution)  \n",
    "h2o_str_s_mu <- mean(str_sou$WaterPollution)  \n",
    "\n",
    "h2o_str_mu <- w_nor * h2o_str_n_mu + w_sou * h2o_str_s_mu\n",
    "\n",
    "# SE  \n",
    "air_str_n_se <- sqrt(w_nor^2 * fpc_nor * var(str_nor$AirQuality) / n_nor)  \n",
    "air_str_s_se <- sqrt(w_sou^2 * fpc_sou * var(str_sou$AirQuality) / n_sou)  \n",
    "air_str_se <- sqrt(air_str_n_se^2 + air_str_s_se^2)\n",
    "\n",
    "h2o_str_n_se <- sqrt(w_nor^2 * fpc_nor * var(str_nor$WaterPollution) / n_nor)  \n",
    "h2o_str_s_se <- sqrt(w_sou^2 * fpc_sou * var(str_sou$WaterPollution) / n_sou)  \n",
    "h2o_str_se <- sqrt(air_str_n_se^2 + air_str_s_se^2)\n",
    "\n",
    "cat(\"The mean for Stratified air quality is \", air_str_mu, \", the se for is \", air_str_se,\n",
    "   \"\\nThe mean for Stratified water pollution is \", h2o_str_mu,\", the se for is \", h2o_str_se)"
   ]
  },
  {
   "cell_type": "code",
   "execution_count": null,
   "id": "3c59ef10-862f-4d2c-8ad3-64a63ac340a2",
   "metadata": {},
   "outputs": [],
   "source": []
  }
 ],
 "metadata": {
  "kernelspec": {
   "display_name": "R",
   "language": "R",
   "name": "ir"
  },
  "language_info": {
   "codemirror_mode": "r",
   "file_extension": ".r",
   "mimetype": "text/x-r-source",
   "name": "R",
   "pygments_lexer": "r",
   "version": "4.3.0"
  }
 },
 "nbformat": 4,
 "nbformat_minor": 5
}
