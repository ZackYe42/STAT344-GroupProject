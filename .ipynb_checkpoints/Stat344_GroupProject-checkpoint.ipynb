{
 "cells": [
  {
   "cell_type": "code",
   "execution_count": 6,
   "id": "0326dc25-e805-4283-a924-1f3d9d529a71",
   "metadata": {},
   "outputs": [],
   "source": [
    "library(tidyverse)"
   ]
  },
  {
   "cell_type": "markdown",
   "id": "2d65716b-8db4-4aca-8ed9-a9c60fc759e3",
   "metadata": {
    "tags": []
   },
   "source": [
    "# Coding Part"
   ]
  },
  {
   "cell_type": "markdown",
   "id": "cad1a43b-3fdc-4b42-9d05-456c0d134fe6",
   "metadata": {},
   "source": [
    "## Read Data and make it tidy"
   ]
  },
  {
   "cell_type": "code",
   "execution_count": 79,
   "id": "60a77378-a1d9-40dd-8263-e217563914f0",
   "metadata": {},
   "outputs": [],
   "source": [
    "#From github Read\n",
    "#ds <- read.csv(\"https://raw.githubusercontent.com/ZackYe42/STAT344-GroupProject/main/cities_air_quality_water_pollution.18-10-2021.csv\",header = T)\n",
    "\n",
    "#From Local\n",
    "ds <- read.csv(\"cities_air_quality_water_pollution.csv\",header = T,sep = \",\")\n",
    "\n",
    "#There is a space befor each string data, we want remove that\n",
    "ds <- ds %>%\n",
    "  mutate_at(vars(City, Region, Country), trimws)\n",
    "\n",
    "#Some Region is NA, we want use city name to replace that\n",
    "ds <- ds %>%\n",
    "  mutate(Region = ifelse(Region == \"\", City, Region))"
   ]
  },
  {
   "cell_type": "code",
   "execution_count": 80,
   "id": "98750194-70b4-4c0c-9026-10ef9db575e6",
   "metadata": {},
   "outputs": [
    {
     "data": {
      "text/html": [
       "<table class=\"dataframe\">\n",
       "<caption>A data.frame: 3 × 5</caption>\n",
       "<thead>\n",
       "\t<tr><th></th><th scope=col>City</th><th scope=col>Region</th><th scope=col>Country</th><th scope=col>AirQuality</th><th scope=col>WaterPollution</th></tr>\n",
       "\t<tr><th></th><th scope=col>&lt;chr&gt;</th><th scope=col>&lt;chr&gt;</th><th scope=col>&lt;chr&gt;</th><th scope=col>&lt;dbl&gt;</th><th scope=col>&lt;dbl&gt;</th></tr>\n",
       "</thead>\n",
       "<tbody>\n",
       "\t<tr><th scope=row>1</th><td>New York City   </td><td>New York            </td><td>United States of America</td><td>46.81604</td><td>49.50495</td></tr>\n",
       "\t<tr><th scope=row>2</th><td>Washington, D.C.</td><td>District of Columbia</td><td>United States of America</td><td>66.12903</td><td>49.10714</td></tr>\n",
       "\t<tr><th scope=row>3</th><td>San Francisco   </td><td>California          </td><td>United States of America</td><td>60.51402</td><td>43.00000</td></tr>\n",
       "</tbody>\n",
       "</table>\n"
      ],
      "text/latex": [
       "A data.frame: 3 × 5\n",
       "\\begin{tabular}{r|lllll}\n",
       "  & City & Region & Country & AirQuality & WaterPollution\\\\\n",
       "  & <chr> & <chr> & <chr> & <dbl> & <dbl>\\\\\n",
       "\\hline\n",
       "\t1 & New York City    & New York             & United States of America & 46.81604 & 49.50495\\\\\n",
       "\t2 & Washington, D.C. & District of Columbia & United States of America & 66.12903 & 49.10714\\\\\n",
       "\t3 & San Francisco    & California           & United States of America & 60.51402 & 43.00000\\\\\n",
       "\\end{tabular}\n"
      ],
      "text/markdown": [
       "\n",
       "A data.frame: 3 × 5\n",
       "\n",
       "| <!--/--> | City &lt;chr&gt; | Region &lt;chr&gt; | Country &lt;chr&gt; | AirQuality &lt;dbl&gt; | WaterPollution &lt;dbl&gt; |\n",
       "|---|---|---|---|---|---|\n",
       "| 1 | New York City    | New York             | United States of America | 46.81604 | 49.50495 |\n",
       "| 2 | Washington, D.C. | District of Columbia | United States of America | 66.12903 | 49.10714 |\n",
       "| 3 | San Francisco    | California           | United States of America | 60.51402 | 43.00000 |\n",
       "\n"
      ],
      "text/plain": [
       "  City             Region               Country                  AirQuality\n",
       "1 New York City    New York             United States of America 46.81604  \n",
       "2 Washington, D.C. District of Columbia United States of America 66.12903  \n",
       "3 San Francisco    California           United States of America 60.51402  \n",
       "  WaterPollution\n",
       "1 49.50495      \n",
       "2 49.10714      \n",
       "3 43.00000      "
      ]
     },
     "metadata": {},
     "output_type": "display_data"
    }
   ],
   "source": [
    "head(ds,3)"
   ]
  },
  {
   "cell_type": "markdown",
   "id": "654d14f8-bffb-4c39-899b-abc0d82b363c",
   "metadata": {},
   "source": [
    "## Preselect Data "
   ]
  },
  {
   "cell_type": "markdown",
   "id": "30d9baff-200e-43e5-a6ab-6238445d679d",
   "metadata": {},
   "source": [
    "In this project, we will only use data from China"
   ]
  },
  {
   "cell_type": "code",
   "execution_count": 83,
   "id": "a5228990-c5ed-4275-8834-d76035ddf544",
   "metadata": {},
   "outputs": [
    {
     "data": {
      "text/html": [
       "<table class=\"dataframe\">\n",
       "<caption>A data.frame: 6 × 5</caption>\n",
       "<thead>\n",
       "\t<tr><th></th><th scope=col>City</th><th scope=col>Region</th><th scope=col>Country</th><th scope=col>AirQuality</th><th scope=col>WaterPollution</th></tr>\n",
       "\t<tr><th></th><th scope=col>&lt;chr&gt;</th><th scope=col>&lt;chr&gt;</th><th scope=col>&lt;chr&gt;</th><th scope=col>&lt;dbl&gt;</th><th scope=col>&lt;dbl&gt;</th></tr>\n",
       "</thead>\n",
       "<tbody>\n",
       "\t<tr><th scope=row>1</th><td>Beijing </td><td>Beijing </td><td>People's Republic of China</td><td>21.366279</td><td>70.78313</td></tr>\n",
       "\t<tr><th scope=row>2</th><td>Hangzhou</td><td>Zhejiang</td><td>People's Republic of China</td><td>25.694444</td><td>62.93103</td></tr>\n",
       "\t<tr><th scope=row>3</th><td>Xi'an   </td><td>Shaanxi </td><td>People's Republic of China</td><td> 5.952381</td><td>72.05882</td></tr>\n",
       "\t<tr><th scope=row>4</th><td>Lhasa   </td><td>Tibet   </td><td>People's Republic of China</td><td>12.500000</td><td>50.00000</td></tr>\n",
       "\t<tr><th scope=row>5</th><td>Shanghai</td><td>Shanghai</td><td>People's Republic of China</td><td>25.000000</td><td>67.58475</td></tr>\n",
       "\t<tr><th scope=row>6</th><td>Shenyang</td><td>Liaoning</td><td>People's Republic of China</td><td> 6.250000</td><td>76.56250</td></tr>\n",
       "</tbody>\n",
       "</table>\n"
      ],
      "text/latex": [
       "A data.frame: 6 × 5\n",
       "\\begin{tabular}{r|lllll}\n",
       "  & City & Region & Country & AirQuality & WaterPollution\\\\\n",
       "  & <chr> & <chr> & <chr> & <dbl> & <dbl>\\\\\n",
       "\\hline\n",
       "\t1 & Beijing  & Beijing  & People's Republic of China & 21.366279 & 70.78313\\\\\n",
       "\t2 & Hangzhou & Zhejiang & People's Republic of China & 25.694444 & 62.93103\\\\\n",
       "\t3 & Xi'an    & Shaanxi  & People's Republic of China &  5.952381 & 72.05882\\\\\n",
       "\t4 & Lhasa    & Tibet    & People's Republic of China & 12.500000 & 50.00000\\\\\n",
       "\t5 & Shanghai & Shanghai & People's Republic of China & 25.000000 & 67.58475\\\\\n",
       "\t6 & Shenyang & Liaoning & People's Republic of China &  6.250000 & 76.56250\\\\\n",
       "\\end{tabular}\n"
      ],
      "text/markdown": [
       "\n",
       "A data.frame: 6 × 5\n",
       "\n",
       "| <!--/--> | City &lt;chr&gt; | Region &lt;chr&gt; | Country &lt;chr&gt; | AirQuality &lt;dbl&gt; | WaterPollution &lt;dbl&gt; |\n",
       "|---|---|---|---|---|---|\n",
       "| 1 | Beijing  | Beijing  | People's Republic of China | 21.366279 | 70.78313 |\n",
       "| 2 | Hangzhou | Zhejiang | People's Republic of China | 25.694444 | 62.93103 |\n",
       "| 3 | Xi'an    | Shaanxi  | People's Republic of China |  5.952381 | 72.05882 |\n",
       "| 4 | Lhasa    | Tibet    | People's Republic of China | 12.500000 | 50.00000 |\n",
       "| 5 | Shanghai | Shanghai | People's Republic of China | 25.000000 | 67.58475 |\n",
       "| 6 | Shenyang | Liaoning | People's Republic of China |  6.250000 | 76.56250 |\n",
       "\n"
      ],
      "text/plain": [
       "  City     Region   Country                    AirQuality WaterPollution\n",
       "1 Beijing  Beijing  People's Republic of China 21.366279  70.78313      \n",
       "2 Hangzhou Zhejiang People's Republic of China 25.694444  62.93103      \n",
       "3 Xi'an    Shaanxi  People's Republic of China  5.952381  72.05882      \n",
       "4 Lhasa    Tibet    People's Republic of China 12.500000  50.00000      \n",
       "5 Shanghai Shanghai People's Republic of China 25.000000  67.58475      \n",
       "6 Shenyang Liaoning People's Republic of China  6.250000  76.56250      "
      ]
     },
     "metadata": {},
     "output_type": "display_data"
    },
    {
     "data": {
      "text/html": [
       "238"
      ],
      "text/latex": [
       "238"
      ],
      "text/markdown": [
       "238"
      ],
      "text/plain": [
       "[1] 238"
      ]
     },
     "metadata": {},
     "output_type": "display_data"
    }
   ],
   "source": [
    "#filter People's Republic of China's data\n",
    "ds1 <- ds %>% \n",
    "     filter(Country == \"People\\'s Republic of China\")\n",
    "head(ds1)\n",
    "nrow(ds1)"
   ]
  },
  {
   "cell_type": "markdown",
   "id": "d46e6025-fa48-4e75-97bb-7245ca244307",
   "metadata": {},
   "source": [
    "# SRS Method"
   ]
  },
  {
   "cell_type": "code",
   "execution_count": null,
   "id": "9953606d-5ccb-4595-acfb-a7f9cb4f7044",
   "metadata": {},
   "outputs": [],
   "source": []
  }
 ],
 "metadata": {
  "kernelspec": {
   "display_name": "R",
   "language": "R",
   "name": "ir"
  },
  "language_info": {
   "codemirror_mode": "r",
   "file_extension": ".r",
   "mimetype": "text/x-r-source",
   "name": "R",
   "pygments_lexer": "r",
   "version": "4.3.0"
  }
 },
 "nbformat": 4,
 "nbformat_minor": 5
}
