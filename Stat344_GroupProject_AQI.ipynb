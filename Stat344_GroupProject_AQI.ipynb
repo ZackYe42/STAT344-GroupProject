{
 "cells": [
  {
   "cell_type": "code",
   "execution_count": 33,
   "id": "0326dc25-e805-4283-a924-1f3d9d529a71",
   "metadata": {},
   "outputs": [],
   "source": [
    "library(tidyverse)\n",
    "library(pinyin)"
   ]
  },
  {
   "cell_type": "markdown",
   "id": "2d65716b-8db4-4aca-8ed9-a9c60fc759e3",
   "metadata": {
    "tags": []
   },
   "source": [
    "# Preprocess"
   ]
  },
  {
   "cell_type": "markdown",
   "id": "cad1a43b-3fdc-4b42-9d05-456c0d134fe6",
   "metadata": {},
   "source": [
    "## Read Data and make it tidy"
   ]
  },
  {
   "cell_type": "code",
   "execution_count": 34,
   "id": "60a77378-a1d9-40dd-8263-e217563914f0",
   "metadata": {},
   "outputs": [],
   "source": [
    "#From github\n",
    "ds <- read.csv(\"https://raw.githubusercontent.com/ZackYe42/STAT344-GroupProject/main/China_AQI.csv\",header = T)\n",
    "reg <- read.csv(\"https://raw.githubusercontent.com/ZackYe42/STAT344-GroupProject/main/china_city_list.csv\",header = T)\n",
    "\n",
    "#From Local\n",
    "#ds <- read.csv(\"China_AQI.csv\",header = T) # AQI data\n",
    "#reg <- read.csv(\"china_city_list.csv\",header = T) # Region data\n",
    "\n",
    "# Select Data\n",
    "ds <- ds[,5:379]\n",
    "column_means <- colMeans(ds, na.rm = T)\n",
    "ds <- data.frame(AirQuality = column_means) %>% rownames_to_column(var = \"city\")"
   ]
  },
  {
   "cell_type": "code",
   "execution_count": 35,
   "id": "98750194-70b4-4c0c-9026-10ef9db575e6",
   "metadata": {},
   "outputs": [
    {
     "data": {
      "text/html": [
       "<table class=\"dataframe\">\n",
       "<caption>A data.frame: 5 × 2</caption>\n",
       "<thead>\n",
       "\t<tr><th></th><th scope=col>city</th><th scope=col>AirQuality</th></tr>\n",
       "\t<tr><th></th><th scope=col>&lt;chr&gt;</th><th scope=col>&lt;dbl&gt;</th></tr>\n",
       "</thead>\n",
       "<tbody>\n",
       "\t<tr><th scope=row>1</th><td>北京  </td><td>55.53574</td></tr>\n",
       "\t<tr><th scope=row>2</th><td>天津  </td><td>63.25470</td></tr>\n",
       "\t<tr><th scope=row>3</th><td>石家庄</td><td>76.76514</td></tr>\n",
       "\t<tr><th scope=row>4</th><td>唐山  </td><td>64.82182</td></tr>\n",
       "\t<tr><th scope=row>5</th><td>秦皇岛</td><td>53.41774</td></tr>\n",
       "</tbody>\n",
       "</table>\n"
      ],
      "text/latex": [
       "A data.frame: 5 × 2\n",
       "\\begin{tabular}{r|ll}\n",
       "  & city & AirQuality\\\\\n",
       "  & <chr> & <dbl>\\\\\n",
       "\\hline\n",
       "\t1 & 北京   & 55.53574\\\\\n",
       "\t2 & 天津   & 63.25470\\\\\n",
       "\t3 & 石家庄 & 76.76514\\\\\n",
       "\t4 & 唐山   & 64.82182\\\\\n",
       "\t5 & 秦皇岛 & 53.41774\\\\\n",
       "\\end{tabular}\n"
      ],
      "text/markdown": [
       "\n",
       "A data.frame: 5 × 2\n",
       "\n",
       "| <!--/--> | city &lt;chr&gt; | AirQuality &lt;dbl&gt; |\n",
       "|---|---|---|\n",
       "| 1 | 北京   | 55.53574 |\n",
       "| 2 | 天津   | 63.25470 |\n",
       "| 3 | 石家庄 | 76.76514 |\n",
       "| 4 | 唐山   | 64.82182 |\n",
       "| 5 | 秦皇岛 | 53.41774 |\n",
       "\n"
      ],
      "text/plain": [
       "  city   AirQuality\n",
       "1 北京   55.53574  \n",
       "2 天津   63.25470  \n",
       "3 石家庄 76.76514  \n",
       "4 唐山   64.82182  \n",
       "5 秦皇岛 53.41774  "
      ]
     },
     "metadata": {},
     "output_type": "display_data"
    }
   ],
   "source": [
    "head(ds,5)"
   ]
  },
  {
   "cell_type": "code",
   "execution_count": 36,
   "id": "a5228990-c5ed-4275-8834-d76035ddf544",
   "metadata": {},
   "outputs": [
    {
     "data": {
      "text/html": [
       "<table class=\"dataframe\">\n",
       "<caption>A data.frame: 6 × 2</caption>\n",
       "<thead>\n",
       "\t<tr><th></th><th scope=col>city</th><th scope=col>AirQuality</th></tr>\n",
       "\t<tr><th></th><th scope=col>&lt;chr&gt;</th><th scope=col>&lt;dbl&gt;</th></tr>\n",
       "</thead>\n",
       "<tbody>\n",
       "\t<tr><th scope=row>1</th><td>bei_jing      </td><td>55.53574</td></tr>\n",
       "\t<tr><th scope=row>2</th><td>tian_jin      </td><td>63.25470</td></tr>\n",
       "\t<tr><th scope=row>3</th><td>shi_jia_zhuang</td><td>76.76514</td></tr>\n",
       "\t<tr><th scope=row>4</th><td>tang_shan     </td><td>64.82182</td></tr>\n",
       "\t<tr><th scope=row>5</th><td>qin_huang_dao </td><td>53.41774</td></tr>\n",
       "\t<tr><th scope=row>6</th><td>han_dan       </td><td>82.18667</td></tr>\n",
       "</tbody>\n",
       "</table>\n"
      ],
      "text/latex": [
       "A data.frame: 6 × 2\n",
       "\\begin{tabular}{r|ll}\n",
       "  & city & AirQuality\\\\\n",
       "  & <chr> & <dbl>\\\\\n",
       "\\hline\n",
       "\t1 & bei\\_jing       & 55.53574\\\\\n",
       "\t2 & tian\\_jin       & 63.25470\\\\\n",
       "\t3 & shi\\_jia\\_zhuang & 76.76514\\\\\n",
       "\t4 & tang\\_shan      & 64.82182\\\\\n",
       "\t5 & qin\\_huang\\_dao  & 53.41774\\\\\n",
       "\t6 & han\\_dan        & 82.18667\\\\\n",
       "\\end{tabular}\n"
      ],
      "text/markdown": [
       "\n",
       "A data.frame: 6 × 2\n",
       "\n",
       "| <!--/--> | city &lt;chr&gt; | AirQuality &lt;dbl&gt; |\n",
       "|---|---|---|\n",
       "| 1 | bei_jing       | 55.53574 |\n",
       "| 2 | tian_jin       | 63.25470 |\n",
       "| 3 | shi_jia_zhuang | 76.76514 |\n",
       "| 4 | tang_shan      | 64.82182 |\n",
       "| 5 | qin_huang_dao  | 53.41774 |\n",
       "| 6 | han_dan        | 82.18667 |\n",
       "\n"
      ],
      "text/plain": [
       "  city           AirQuality\n",
       "1 bei_jing       55.53574  \n",
       "2 tian_jin       63.25470  \n",
       "3 shi_jia_zhuang 76.76514  \n",
       "4 tang_shan      64.82182  \n",
       "5 qin_huang_dao  53.41774  \n",
       "6 han_dan        82.18667  "
      ]
     },
     "metadata": {},
     "output_type": "display_data"
    },
    {
     "data": {
      "text/html": [
       "375"
      ],
      "text/latex": [
       "375"
      ],
      "text/markdown": [
       "375"
      ],
      "text/plain": [
       "[1] 375"
      ]
     },
     "metadata": {},
     "output_type": "display_data"
    }
   ],
   "source": [
    "# Convert Chinese to pinyin\n",
    "mypy <- pydic(method = 'toneless',dic = \"pinyin2\")\n",
    "ps <- py(ds$city,dic = mypy)\n",
    "\n",
    "ds1 <- ds\n",
    "ds1$city <- data.frame(ps)$ps\n",
    "\n",
    "head(ds1)\n",
    "N <- nrow(ds1)\n",
    "N"
   ]
  },
  {
   "cell_type": "markdown",
   "id": "a8921776",
   "metadata": {},
   "source": [
    "# Visulization"
   ]
  },
  {
   "cell_type": "code",
   "execution_count": 37,
   "id": "bb6e12ac",
   "metadata": {},
   "outputs": [
    {
     "name": "stderr",
     "output_type": "stream",
     "text": [
      "Warning message:\n",
      "\"\u001b[1m\u001b[22mRemoved 31 rows containing non-finite values (`stat_boxplot()`).\"\n"
     ]
    },
    {
     "data": {
      "image/png": "[encoded data removed]",
      "text/plain": [
       "plot without title"
      ]
     },
     "metadata": {
      "image/png": {
       "height": 420,
       "width": 420
      }
     },
     "output_type": "display_data"
    }
   ],
   "source": [
    "air_box <- ds1 %>% \n",
    "    ggplot() +\n",
    "    geom_boxplot(aes(y = AirQuality))\n",
    "air_box\n"
   ]
  },
  {
   "cell_type": "code",
   "execution_count": 38,
   "id": "430f0cde",
   "metadata": {},
   "outputs": [
    {
     "name": "stderr",
     "output_type": "stream",
     "text": [
      "\u001b[1m\u001b[22m`stat_bin()` using `bins = 30`. Pick better value with `binwidth`.\n",
      "Warning message:\n",
      "\"\u001b[1m\u001b[22mRemoved 31 rows containing non-finite values (`stat_bin()`).\"\n"
     ]
    },
    {
     "data": {
      "image/png": "[encoded data removed]",
      "text/plain": [
       "plot without title"
      ]
     },
     "metadata": {
      "image/png": {
       "height": 420,
       "width": 420
      }
     },
     "output_type": "display_data"
    }
   ],
   "source": [
    "air_srs_mu <- mean(ds1$AirQuality,na.rm = T)\n",
    "air_hist <- ds1 %>% \n",
    "    ggplot() +\n",
    "    geom_histogram(aes(x = AirQuality)) + \n",
    "    geom_vline(aes(xintercept = air_srs_mu), size = 1)\n",
    "air_hist"
   ]
  },
  {
   "cell_type": "markdown",
   "id": "d2c4cb24",
   "metadata": {},
   "source": [
    "# True Mean and Proportion"
   ]
  },
  {
   "cell_type": "code",
   "execution_count": 39,
   "id": "d3bda39c",
   "metadata": {},
   "outputs": [
    {
     "name": "stdout",
     "output_type": "stream",
     "text": [
      "The mean for chinese air quality is  54.16269 \n",
      "The proportion for chinese air quality not larger than 50 is  0.4505814"
     ]
    }
   ],
   "source": [
    "air_mu <- mean(ds1$AirQuality,na.rm = T)\n",
    "air_prop <- mean(ds1$AirQuality <= 50, na.rm = T)\n",
    "\n",
    "cat(\"The mean for chinese air quality is \", air_mu,\n",
    "   \"\\nThe proportion for chinese air quality not larger than 50 is \", air_prop)"
   ]
  },
  {
   "cell_type": "markdown",
   "id": "c4599350",
   "metadata": {},
   "source": [
    "## SRS Method"
   ]
  },
  {
   "cell_type": "code",
   "execution_count": 40,
   "id": "9953606d-5ccb-4595-acfb-a7f9cb4f7044",
   "metadata": {},
   "outputs": [],
   "source": [
    "# SRS Sample \n",
    "\n",
    "set.seed(42)\n",
    "n <- 50\n",
    "srs <- sample_n(ds1,n)"
   ]
  },
  {
   "cell_type": "code",
   "execution_count": 41,
   "id": "942e0e7b",
   "metadata": {},
   "outputs": [],
   "source": [
    "# FPC\n",
    "fpc <- (1 - n / N)"
   ]
  },
  {
   "cell_type": "markdown",
   "id": "cc7a50be",
   "metadata": {},
   "source": [
    "### Mean and SE"
   ]
  },
  {
   "cell_type": "code",
   "execution_count": 42,
   "id": "af3d46db-c44c-418f-9615-57e54a3edbe5",
   "metadata": {},
   "outputs": [
    {
     "name": "stdout",
     "output_type": "stream",
     "text": [
      "The mean for SRS air quality is  57.79385 , the se for it is  2.63517 \n",
      "The 95% Confidence Interval for that is  53.37755  and  62.21014"
     ]
    }
   ],
   "source": [
    "#Calculate Mean and SE\n",
    "\n",
    "air_srs_mu <- mean(srs$AirQuality, na.rm = T)\n",
    "air_srs_mu_se <- sd(srs$AirQuality, na.rm = T) / sqrt(n / fpc)\n",
    "\n",
    "# CI\n",
    "air_srs_mu_CI <- air_srs_mu + qt(0.95,n) * c(-1, 1) * air_srs_mu_se\n",
    "\n",
    "\n",
    "cat(\"The mean for SRS air quality is \", air_srs_mu, \", the se for it is \", air_srs_mu_se, \n",
    "    \"\\nThe 95% Confidence Interval for that is \", air_srs_mu_CI[1], \" and \", air_srs_mu_CI[2])"
   ]
  },
  {
   "cell_type": "markdown",
   "id": "168743d7",
   "metadata": {},
   "source": [
    "### Proportion and SE  \n",
    "\n",
    "Equal Samller or Larger than 50, the proportion will reflect the AQI **Equal Samller than 50**\n"
   ]
  },
  {
   "cell_type": "code",
   "execution_count": 43,
   "id": "4141721f",
   "metadata": {},
   "outputs": [
    {
     "name": "stdout",
     "output_type": "stream",
     "text": [
      "The proportion for SRS air quality not larger than 50 is  0.4042553 , the se for it is  0.06460989 \n",
      "The 95% Confidence Interval for that is  0.2959753  and  0.5125354"
     ]
    }
   ],
   "source": [
    "#Calculate Proportion and SE\n",
    "air_srs_prop <- mean(srs$AirQuality <= 50, na.rm = T)\n",
    "air_srs_prop_se <- sqrt(air_srs_prop * (1 - air_srs_prop) / n * fpc)\n",
    "\n",
    "air_srs_prop_CI <- air_srs_prop + qt(0.95,n) * c(-1, 1) * air_srs_prop_se\n",
    "\n",
    "cat(\"The proportion for SRS air quality not larger than 50 is \", air_srs_prop, \", the se for it is \", air_srs_prop_se, \n",
    "    \"\\nThe 95% Confidence Interval for that is \", air_srs_prop_CI[1], \" and \", air_srs_prop_CI[2])"
   ]
  },
  {
   "cell_type": "markdown",
   "id": "c47d1c0a",
   "metadata": {},
   "source": [
    "# Stratified "
   ]
  },
  {
   "cell_type": "code",
   "execution_count": 44,
   "id": "867c5b9c-26bf-48d2-9dea-28b24917afae",
   "metadata": {},
   "outputs": [
    {
     "data": {
      "text/html": [
       "<style>\n",
       ".list-inline {list-style: none; margin:0; padding: 0}\n",
       ".list-inline>li {display: inline-block}\n",
       ".list-inline>li:not(:last-child)::after {content: \"\\00b7\"; padding: 0 .5ex}\n",
       "</style>\n",
       "<ol class=list-inline><li>'七台河'</li><li>'三门峡'</li><li>'东营'</li><li>'中卫'</li><li>'临汾'</li><li>'临沂'</li></ol>\n"
      ],
      "text/latex": [
       "\\begin{enumerate*}\n",
       "\\item '七台河'\n",
       "\\item '三门峡'\n",
       "\\item '东营'\n",
       "\\item '中卫'\n",
       "\\item '临汾'\n",
       "\\item '临沂'\n",
       "\\end{enumerate*}\n"
      ],
      "text/markdown": [
       "1. '七台河'\n",
       "2. '三门峡'\n",
       "3. '东营'\n",
       "4. '中卫'\n",
       "5. '临汾'\n",
       "6. '临沂'\n",
       "\n",
       "\n"
      ],
      "text/plain": [
       "[1] \"七台河\" \"三门峡\" \"东营\"   \"中卫\"   \"临汾\"   \"临沂\"  "
      ]
     },
     "metadata": {},
     "output_type": "display_data"
    }
   ],
   "source": [
    "# Use for select North City\n",
    "north_city <- reg %>% \n",
    "    select(City,Region)  %>% \n",
    "    filter(Region == \"North\" | Region == \"West\") %>% \n",
    "    pull(City)\n",
    "head(north_city)"
   ]
  },
  {
   "cell_type": "code",
   "execution_count": 45,
   "id": "e8913d5d",
   "metadata": {},
   "outputs": [],
   "source": [
    "north <- ds %>% \n",
    "    filter(city %in% north_city)\n",
    "\n",
    "`%notin%` <- Negate(`%in%`)\n",
    "south <- ds %>% \n",
    "    filter(city %notin% north_city)\n",
    "\n",
    "N_nor <- nrow(north)\n",
    "N_sou <- nrow(south)\n",
    "\n",
    "w_nor <- N_nor / N\n",
    "w_sou <- N_sou / N\n",
    "\n",
    "n_nor <- round(w_nor * n,0)\n",
    "n_sou <- round(w_sou * n,0)\n",
    "\n",
    "fpc_nor <- 1 - n_nor / N\n",
    "fpc_sou <- 1 - n_sou / N"
   ]
  },
  {
   "cell_type": "code",
   "execution_count": 46,
   "id": "ba52100e",
   "metadata": {},
   "outputs": [],
   "source": [
    "# Stratified Sample\n",
    "#set.seed(42)\n",
    "str_nor <- sample_n(north,n_nor)\n",
    "str_sou <- sample_n(south,n_sou)"
   ]
  },
  {
   "cell_type": "markdown",
   "id": "17e6e4cf",
   "metadata": {},
   "source": [
    "### Mean and SE"
   ]
  },
  {
   "cell_type": "code",
   "execution_count": 47,
   "id": "78ee3d03",
   "metadata": {},
   "outputs": [
    {
     "name": "stdout",
     "output_type": "stream",
     "text": [
      "The mean for Stratified air quality is  54.2414 , the se for it is  2.301197 \n",
      "The 95% Confidence Interval for that is  50.38481  and  58.09799"
     ]
    }
   ],
   "source": [
    "#Calculate Mean and SE\n",
    "\n",
    "# Mean\n",
    "air_str_n_mu <- mean(str_nor$AirQuality, na.rm = T)  \n",
    "air_str_s_mu <- mean(str_sou$AirQuality, na.rm = T)  \n",
    "\n",
    "air_str_mu <- w_nor * air_str_n_mu + w_sou * air_str_s_mu\n",
    "\n",
    "\n",
    "# SE  \n",
    "air_str_n_mu_se <- sqrt(w_nor^2 * fpc_nor * var(str_nor$AirQuality, na.rm = T) / n_nor)  \n",
    "air_str_s_mu_se <- sqrt(w_sou^2 * fpc_sou * var(str_sou$AirQuality, na.rm = T) / n_sou)  \n",
    "\n",
    "air_str_mu_se <- sqrt(air_str_n_mu_se^2 + air_str_s_mu_se^2)\n",
    "\n",
    "# CI\n",
    "air_str_mu_CI <- air_str_mu + qt(0.95,n) * c(-1, 1) * air_str_mu_se\n",
    "\n",
    "cat(\"The mean for Stratified air quality is \", air_str_mu, \", the se for it is \", air_str_mu_se, \n",
    "    \"\\nThe 95% Confidence Interval for that is \", air_str_mu_CI[1], \" and \", air_str_mu_CI[2])"
   ]
  },
  {
   "cell_type": "markdown",
   "id": "b4f2527d",
   "metadata": {},
   "source": [
    "### Proportion and SE  \n",
    "\n",
    "Equal Samller or Larger than 50, the proportion will reflect the AQI **Equal Samller than 50**\n"
   ]
  },
  {
   "cell_type": "code",
   "execution_count": 48,
   "id": "5999d3b6",
   "metadata": {},
   "outputs": [
    {
     "name": "stdout",
     "output_type": "stream",
     "text": [
      "The proportion for Stratified air quality not larger than 50 is  0.4655556 , the se for it is  0.06190672 \n",
      "The 95% Confidence Interval for that is  0.3618058  and  0.5693053"
     ]
    }
   ],
   "source": [
    "#Calculate Proportion and SE\n",
    "\n",
    "# Proportion\n",
    "air_str_n_prop <- mean(str_nor$AirQuality <= 50, na.rm = T)  \n",
    "air_str_s_prop <- mean(str_sou$AirQuality <= 50, na.rm = T)  \n",
    "\n",
    "air_str_prop <-  w_nor * air_str_n_prop + w_sou * air_str_s_prop\n",
    "\n",
    "# SE\n",
    "air_str_n_prop_se <- sqrt(w_nor^2 * fpc_nor * air_str_n_prop * (1 - air_str_n_prop) / (n_nor))  \n",
    "air_str_s_prop_se <- sqrt(w_sou^2 * fpc_sou * air_str_s_prop * (1 - air_str_s_prop) / (n_sou))  \n",
    "\n",
    "air_str_prop_se <- sqrt(air_str_n_prop_se^2 + air_str_s_prop_se^2)\n",
    "\n",
    "# CI\n",
    "air_str_prop_CI <- air_str_prop + qt(0.95,n) * c(-1, 1) * air_str_prop_se\n",
    "\n",
    "cat(\"The proportion for Stratified air quality not larger than 50 is \", air_str_prop, \", the se for it is \", air_str_prop_se, \n",
    "    \"\\nThe 95% Confidence Interval for that is \", air_str_prop_CI[1], \" and \", air_str_prop_CI[2])"
   ]
  },
  {
   "cell_type": "code",
   "execution_count": null,
   "id": "b98be2cb",
   "metadata": {},
   "outputs": [],
   "source": []
  }
 ],
 "metadata": {
  "kernelspec": {
   "display_name": "R",
   "language": "R",
   "name": "ir"
  },
  "language_info": {
   "codemirror_mode": "r",
   "file_extension": ".r",
   "mimetype": "text/x-r-source",
   "name": "R",
   "pygments_lexer": "r",
   "version": "4.3.0"
  }
 },
 "nbformat": 4,
 "nbformat_minor": 5
}
