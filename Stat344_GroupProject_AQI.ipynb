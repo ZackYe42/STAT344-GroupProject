{
 "cells": [
  {
   "cell_type": "code",
   "execution_count": 1,
   "id": "0326dc25-e805-4283-a924-1f3d9d529a71",
   "metadata": {},
   "outputs": [
    {
     "name": "stderr",
     "output_type": "stream",
     "text": [
      "Warning message:\n",
      "\"package 'ggplot2' was built under R version 4.3.1\"\n",
      "Warning message:\n",
      "\"package 'purrr' was built under R version 4.3.1\"\n",
      "Warning message:\n",
      "\"package 'dplyr' was built under R version 4.3.1\"\n",
      "── \u001b[1mAttaching core tidyverse packages\u001b[22m ──────────────────────────────────────────────────────────────── tidyverse 2.0.0 ──\n",
      "\u001b[32m✔\u001b[39m \u001b[34mdplyr    \u001b[39m 1.1.3     \u001b[32m✔\u001b[39m \u001b[34mreadr    \u001b[39m 2.1.4\n",
      "\u001b[32m✔\u001b[39m \u001b[34mforcats  \u001b[39m 1.0.0     \u001b[32m✔\u001b[39m \u001b[34mstringr  \u001b[39m 1.5.0\n",
      "\u001b[32m✔\u001b[39m \u001b[34mggplot2  \u001b[39m 3.4.3     \u001b[32m✔\u001b[39m \u001b[34mtibble   \u001b[39m 3.2.1\n",
      "\u001b[32m✔\u001b[39m \u001b[34mlubridate\u001b[39m 1.9.2     \u001b[32m✔\u001b[39m \u001b[34mtidyr    \u001b[39m 1.3.0\n",
      "\u001b[32m✔\u001b[39m \u001b[34mpurrr    \u001b[39m 1.0.2     \n",
      "── \u001b[1mConflicts\u001b[22m ────────────────────────────────────────────────────────────────────────────────── tidyverse_conflicts() ──\n",
      "\u001b[31m✖\u001b[39m \u001b[34mdplyr\u001b[39m::\u001b[32mfilter()\u001b[39m masks \u001b[34mstats\u001b[39m::filter()\n",
      "\u001b[31m✖\u001b[39m \u001b[34mdplyr\u001b[39m::\u001b[32mlag()\u001b[39m    masks \u001b[34mstats\u001b[39m::lag()\n",
      "\u001b[36mℹ\u001b[39m Use the conflicted package (\u001b[3m\u001b[34m<http://conflicted.r-lib.org/>\u001b[39m\u001b[23m) to force all conflicts to become errors\n",
      "Warning message:\n",
      "\"package 'pinyin' was built under R version 4.3.2\"\n"
     ]
    }
   ],
   "source": [
    "library(tidyverse)\n",
    "library(pinyin)"
   ]
  },
  {
   "cell_type": "markdown",
   "id": "2d65716b-8db4-4aca-8ed9-a9c60fc759e3",
   "metadata": {
    "tags": []
   },
   "source": [
    "# Coding Part"
   ]
  },
  {
   "cell_type": "markdown",
   "id": "cad1a43b-3fdc-4b42-9d05-456c0d134fe6",
   "metadata": {},
   "source": [
    "## Read Data and make it tidy"
   ]
  },
  {
   "cell_type": "code",
   "execution_count": 6,
   "id": "60a77378-a1d9-40dd-8263-e217563914f0",
   "metadata": {},
   "outputs": [],
   "source": [
    "#From github Read\n",
    "#ds <- read.csv(\"https://raw.githubusercontent.com/ZackYe42/STAT344-GroupProject/main/China_AQI.csv\",header = T)\n",
    "\n",
    "#From Local\n",
    "ds <- read.csv(\"China_AQI.csv\",header = T)\n",
    "\n",
    "# Select Data\n",
    "ds <- ds[,5:379]\n",
    "column_means <- colMeans(ds, na.rm = T)\n",
    "ds <- data.frame(AirQuality = column_means) %>% rownames_to_column(var = \"city\")"
   ]
  },
  {
   "cell_type": "code",
   "execution_count": 8,
   "id": "98750194-70b4-4c0c-9026-10ef9db575e6",
   "metadata": {},
   "outputs": [
    {
     "data": {
      "text/html": [
       "<table class=\"dataframe\">\n",
       "<caption>A data.frame: 5 × 2</caption>\n",
       "<thead>\n",
       "\t<tr><th></th><th scope=col>city</th><th scope=col>AirQuality</th></tr>\n",
       "\t<tr><th></th><th scope=col>&lt;chr&gt;</th><th scope=col>&lt;dbl&gt;</th></tr>\n",
       "</thead>\n",
       "<tbody>\n",
       "\t<tr><th scope=row>1</th><td>北京  </td><td>55.53574</td></tr>\n",
       "\t<tr><th scope=row>2</th><td>天津  </td><td>63.25470</td></tr>\n",
       "\t<tr><th scope=row>3</th><td>石家庄</td><td>76.76514</td></tr>\n",
       "\t<tr><th scope=row>4</th><td>唐山  </td><td>64.82182</td></tr>\n",
       "\t<tr><th scope=row>5</th><td>秦皇岛</td><td>53.41774</td></tr>\n",
       "</tbody>\n",
       "</table>\n"
      ],
      "text/latex": [
       "A data.frame: 5 × 2\n",
       "\\begin{tabular}{r|ll}\n",
       "  & city & AirQuality\\\\\n",
       "  & <chr> & <dbl>\\\\\n",
       "\\hline\n",
       "\t1 & 北京   & 55.53574\\\\\n",
       "\t2 & 天津   & 63.25470\\\\\n",
       "\t3 & 石家庄 & 76.76514\\\\\n",
       "\t4 & 唐山   & 64.82182\\\\\n",
       "\t5 & 秦皇岛 & 53.41774\\\\\n",
       "\\end{tabular}\n"
      ],
      "text/markdown": [
       "\n",
       "A data.frame: 5 × 2\n",
       "\n",
       "| <!--/--> | city &lt;chr&gt; | AirQuality &lt;dbl&gt; |\n",
       "|---|---|---|\n",
       "| 1 | 北京   | 55.53574 |\n",
       "| 2 | 天津   | 63.25470 |\n",
       "| 3 | 石家庄 | 76.76514 |\n",
       "| 4 | 唐山   | 64.82182 |\n",
       "| 5 | 秦皇岛 | 53.41774 |\n",
       "\n"
      ],
      "text/plain": [
       "  city   AirQuality\n",
       "1 北京   55.53574  \n",
       "2 天津   63.25470  \n",
       "3 石家庄 76.76514  \n",
       "4 唐山   64.82182  \n",
       "5 秦皇岛 53.41774  "
      ]
     },
     "metadata": {},
     "output_type": "display_data"
    }
   ],
   "source": [
    "head(ds,5)"
   ]
  },
  {
   "cell_type": "code",
   "execution_count": 12,
   "id": "a5228990-c5ed-4275-8834-d76035ddf544",
   "metadata": {},
   "outputs": [
    {
     "data": {
      "text/html": [
       "<table class=\"dataframe\">\n",
       "<caption>A data.frame: 6 × 2</caption>\n",
       "<thead>\n",
       "\t<tr><th></th><th scope=col>city</th><th scope=col>AirQuality</th></tr>\n",
       "\t<tr><th></th><th scope=col>&lt;chr&gt;</th><th scope=col>&lt;dbl&gt;</th></tr>\n",
       "</thead>\n",
       "<tbody>\n",
       "\t<tr><th scope=row>1</th><td>bei_jing      </td><td>55.53574</td></tr>\n",
       "\t<tr><th scope=row>2</th><td>tian_jin      </td><td>63.25470</td></tr>\n",
       "\t<tr><th scope=row>3</th><td>shi_jia_zhuang</td><td>76.76514</td></tr>\n",
       "\t<tr><th scope=row>4</th><td>tang_shan     </td><td>64.82182</td></tr>\n",
       "\t<tr><th scope=row>5</th><td>qin_huang_dao </td><td>53.41774</td></tr>\n",
       "\t<tr><th scope=row>6</th><td>han_dan       </td><td>82.18667</td></tr>\n",
       "</tbody>\n",
       "</table>\n"
      ],
      "text/latex": [
       "A data.frame: 6 × 2\n",
       "\\begin{tabular}{r|ll}\n",
       "  & city & AirQuality\\\\\n",
       "  & <chr> & <dbl>\\\\\n",
       "\\hline\n",
       "\t1 & bei\\_jing       & 55.53574\\\\\n",
       "\t2 & tian\\_jin       & 63.25470\\\\\n",
       "\t3 & shi\\_jia\\_zhuang & 76.76514\\\\\n",
       "\t4 & tang\\_shan      & 64.82182\\\\\n",
       "\t5 & qin\\_huang\\_dao  & 53.41774\\\\\n",
       "\t6 & han\\_dan        & 82.18667\\\\\n",
       "\\end{tabular}\n"
      ],
      "text/markdown": [
       "\n",
       "A data.frame: 6 × 2\n",
       "\n",
       "| <!--/--> | city &lt;chr&gt; | AirQuality &lt;dbl&gt; |\n",
       "|---|---|---|\n",
       "| 1 | bei_jing       | 55.53574 |\n",
       "| 2 | tian_jin       | 63.25470 |\n",
       "| 3 | shi_jia_zhuang | 76.76514 |\n",
       "| 4 | tang_shan      | 64.82182 |\n",
       "| 5 | qin_huang_dao  | 53.41774 |\n",
       "| 6 | han_dan        | 82.18667 |\n",
       "\n"
      ],
      "text/plain": [
       "  city           AirQuality\n",
       "1 bei_jing       55.53574  \n",
       "2 tian_jin       63.25470  \n",
       "3 shi_jia_zhuang 76.76514  \n",
       "4 tang_shan      64.82182  \n",
       "5 qin_huang_dao  53.41774  \n",
       "6 han_dan        82.18667  "
      ]
     },
     "metadata": {},
     "output_type": "display_data"
    },
    {
     "data": {
      "text/html": [
       "375"
      ],
      "text/latex": [
       "375"
      ],
      "text/markdown": [
       "375"
      ],
      "text/plain": [
       "[1] 375"
      ]
     },
     "metadata": {},
     "output_type": "display_data"
    }
   ],
   "source": [
    "# Convert Chinese to pinyin\n",
    "mypy <- pydic(method = 'toneless',dic = \"pinyin2\")\n",
    "ps <- py(ds$city,dic = mypy)\n",
    "\n",
    "ds1 <- ds\n",
    "ds1$city <- data.frame(ps)$ps\n",
    "\n",
    "head(ds1)\n",
    "N <- nrow(ds1)\n",
    "N"
   ]
  },
  {
   "cell_type": "markdown",
   "id": "a8921776",
   "metadata": {},
   "source": [
    "# Visulization"
   ]
  },
  {
   "cell_type": "code",
   "execution_count": 13,
   "id": "bb6e12ac",
   "metadata": {},
   "outputs": [
    {
     "name": "stderr",
     "output_type": "stream",
     "text": [
      "Warning message:\n",
      "\"\u001b[1m\u001b[22mRemoved 31 rows containing non-finite values (`stat_boxplot()`).\"\n"
     ]
    },
    {
     "data": {
      "image/png": "[encoded data removed]",
      "text/plain": [
       "plot without title"
      ]
     },
     "metadata": {
      "image/png": {
       "height": 420,
       "width": 420
      }
     },
     "output_type": "display_data"
    }
   ],
   "source": [
    "air_box <- ds1 %>% \n",
    "    ggplot() +\n",
    "    geom_boxplot(aes(y = AirQuality))\n",
    "air_box\n"
   ]
  },
  {
   "cell_type": "markdown",
   "id": "d2c4cb24",
   "metadata": {},
   "source": [
    "# True Mean"
   ]
  },
  {
   "cell_type": "code",
   "execution_count": 17,
   "id": "d3bda39c",
   "metadata": {},
   "outputs": [
    {
     "name": "stdout",
     "output_type": "stream",
     "text": [
      "The mean for chinese air quality is  54.16269"
     ]
    }
   ],
   "source": [
    "air_mu <- mean(ds1$AirQuality,na.rm = T)\n",
    "cat(\"The mean for chinese air quality is \", air_mu)"
   ]
  },
  {
   "cell_type": "markdown",
   "id": "d46e6025-fa48-4e75-97bb-7245ca244307",
   "metadata": {},
   "source": [
    "## SRS Method"
   ]
  },
  {
   "cell_type": "code",
   "execution_count": 18,
   "id": "9953606d-5ccb-4595-acfb-a7f9cb4f7044",
   "metadata": {},
   "outputs": [],
   "source": [
    "# SRS Sample \n",
    "\n",
    "set.seed(42)\n",
    "n <- 60\n",
    "srs <- sample_n(ds1,n)"
   ]
  },
  {
   "cell_type": "code",
   "execution_count": 19,
   "id": "942e0e7b",
   "metadata": {},
   "outputs": [],
   "source": [
    "# FPC\n",
    "fpc <- (1 - n / N)"
   ]
  },
  {
   "cell_type": "code",
   "execution_count": 21,
   "id": "af3d46db-c44c-418f-9615-57e54a3edbe5",
   "metadata": {},
   "outputs": [
    {
     "name": "stdout",
     "output_type": "stream",
     "text": [
      "The mean for SRS air quality is  57.21534 , the se for is  2.248553"
     ]
    }
   ],
   "source": [
    "#Calculate Mean and SE\n",
    "\n",
    "air_srs_mu <- mean(srs$AirQuality,na.rm = T)\n",
    "air_srs_se <- sd(srs$AirQuality,na.rm = T) / sqrt(n / fpc)\n",
    "\n",
    "\n",
    "cat(\"The mean for SRS air quality is \", air_srs_mu, \", the se for is \", air_srs_se)"
   ]
  },
  {
   "cell_type": "markdown",
   "id": "c47d1c0a",
   "metadata": {},
   "source": [
    "# Stratified "
   ]
  },
  {
   "cell_type": "code",
   "execution_count": 22,
   "id": "867c5b9c-26bf-48d2-9dea-28b24917afae",
   "metadata": {},
   "outputs": [],
   "source": [
    "north_city <- c(\n",
    "  'bei_jing', 'tian_jin', 'shi_jia_zhuang', 'tang_shan', 'qin_huang_dao',\n",
    "  'han_dan', 'bao_ding', 'zhang_jia_kou', 'cheng_de', 'lang_fang',\n",
    "  'cang_zhou', 'heng_shui', 'xing_tai', 'tai_yuan', 'hu_he_hao_te',\n",
    "  'shen_yang', 'da_lian', 'chang_chun', 'ha_er_bin', 'xing_tai',\n",
    "  'tai_yuan', 'hu_he_hao_te', 'bao_tou', 'e_er_duo_si', 'ying_kou',\n",
    "  'dan_dong', 'pan_jin', 'hu_lu_dao', 'chi_feng', 'an_shan',\n",
    "  'fu_shun', 'ben_xi', 'jin_zhou', 'ji_lin', 'qi_qi_ha_er',\n",
    "  'mu_dan_jiang', 'da_qing', 'yan_tai', 'wei_fang', 'ji_ning',\n",
    "  'tai_an', 'ri_zhao', 'wei_hai', 'dong_ying', 'zao_zhuang',\n",
    "  'lin_yi', 'de_zhou', 'liao_cheng', 'bin_zhou', 'he_ze',\n",
    "  'ji_nan', 'qing_dao', 'zi_bo', 'han_dan', 'xi_an',\n",
    "  'tong_chuan', 'bao_ji', 'xian_yang', 'wei_nan', 'yan_an',\n",
    "  'yu_lin', 'han_zhong', 'an_kang', 'shang_luo', 'jiu_quan',\n",
    "  'tian_shui', 'wu_wei', 'zhang_ye', 'ping_liang', 'jiayuguan',\n",
    "  'lan_zhou', 'bai_yin', 'tianshui', 'wu_wei', 'zhang_ye',\n",
    "  'qing_yang', 'ding_xi', 'long_nan', 'ping_liang', 'jiu_quan',\n",
    "  'jin_chang', 'shi_zui_shan', 'jiayuguan', 'yin_chuan', 'shi_zui_shan',\n",
    "  'wu_zhong', 'zhong_wei', 'bao_shan', 'xi_lin_guo_le_meng', 'a_la_shan_meng',\n",
    "  'wu_lu_mu_qi', 'ke_la_ma_yi', 'tu_lu_fan', 'ha_mi', 'chang_ji',\n",
    "  'bo_er_ta_la', 'ba_yin_guo_leng', 'a_ke_su', 'ke_zi_le_su_ke_er_ke_zi', 'ka_shen',\n",
    "  'he_tian', 'yi_li_ha_sa_ke', 'ta_cheng', 'a_le_tai', 'shi_he_zi',\n",
    "  'wu_jia_qu'\n",
    ")"
   ]
  },
  {
   "cell_type": "code",
   "execution_count": 23,
   "id": "e8913d5d",
   "metadata": {},
   "outputs": [],
   "source": [
    "north <- ds1 %>% \n",
    "    filter(city %in% north_city)\n",
    "\n",
    "`%notin%` <- Negate(`%in%`)\n",
    "south <- ds1 %>% \n",
    "    filter(city %notin% north_city)\n",
    "\n",
    "N_nor <- nrow(north)\n",
    "N_sou <- nrow(south)\n",
    "\n",
    "w_nor <- N_nor / N\n",
    "w_sou <- N_sou / N\n",
    "\n",
    "n_nor <- round(w_nor * n,0)\n",
    "n_sou <- round(w_sou * n,0)\n",
    "\n",
    "fpc_nor <- 1 - n_nor / N\n",
    "fpc_sou <- 1 - n_sou / N"
   ]
  },
  {
   "cell_type": "code",
   "execution_count": 24,
   "id": "ba52100e",
   "metadata": {},
   "outputs": [],
   "source": [
    "# Stratified Sample\n",
    "set.seed(42)\n",
    "str_nor <- sample_n(north,n_nor)\n",
    "str_sou <- sample_n(south,n_sou)"
   ]
  },
  {
   "cell_type": "code",
   "execution_count": 27,
   "id": "78ee3d03",
   "metadata": {},
   "outputs": [
    {
     "name": "stdout",
     "output_type": "stream",
     "text": [
      "The mean for Stratified air quality is  55.97762 , the se for is  3.617934"
     ]
    }
   ],
   "source": [
    "#Calculate Mean and SE\n",
    "\n",
    "# Mean\n",
    "air_str_n_mu <- mean(str_nor$AirQuality,na.rm = T)  \n",
    "air_str_s_mu <- mean(str_sou$AirQuality,na.rm = T)  \n",
    "\n",
    "air_str_mu <- w_nor * air_str_n_mu + w_sou * air_str_s_mu\n",
    "\n",
    "\n",
    "# SE  \n",
    "air_str_n_se <- sqrt(w_nor^2 * fpc_nor * var(str_nor$AirQuality,na.rm = T) / n_nor)  \n",
    "air_str_s_se <- sqrt(w_sou^2 * fpc_sou * var(str_sou$AirQuality,na.rm = T) / n_sou)  \n",
    "air_str_se <- sqrt(air_str_n_se^2 + air_str_s_se^2)\n",
    "\n",
    "\n",
    "cat(\"The mean for Stratified air quality is \", air_str_mu, \", the se for is \", air_str_se)"
   ]
  },
  {
   "cell_type": "code",
   "execution_count": null,
   "id": "4833e6ad-03fd-43c5-922a-8a3b43cfc4e6",
   "metadata": {},
   "outputs": [],
   "source": []
  }
 ],
 "metadata": {
  "kernelspec": {
   "display_name": "R",
   "language": "R",
   "name": "ir"
  },
  "language_info": {
   "codemirror_mode": "r",
   "file_extension": ".r",
   "mimetype": "text/x-r-source",
   "name": "R",
   "pygments_lexer": "r",
   "version": "4.3.0"
  }
 },
 "nbformat": 4,
 "nbformat_minor": 5
}
